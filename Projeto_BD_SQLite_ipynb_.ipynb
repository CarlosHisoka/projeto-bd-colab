{
  "nbformat": 4,
  "nbformat_minor": 0,
  "metadata": {
    "colab": {
      "provenance": [],
      "authorship_tag": "ABX9TyPRUluAtmY6SLwM/ZXEUtV1",
      "include_colab_link": true
    },
    "kernelspec": {
      "name": "python3",
      "display_name": "Python 3"
    },
    "language_info": {
      "name": "python"
    }
  },
  "cells": [
    {
      "cell_type": "markdown",
      "metadata": {
        "id": "view-in-github",
        "colab_type": "text"
      },
      "source": [
        "<a href=\"https://colab.research.google.com/github/CarlosHisoka/projeto-bd-colab/blob/main/Projeto_BD_SQLite_ipynb_.ipynb\" target=\"_parent\"><img src=\"https://colab.research.google.com/assets/colab-badge.svg\" alt=\"Open In Colab\"/></a>"
      ]
    },
    {
      "cell_type": "code",
      "execution_count": 5,
      "metadata": {
        "colab": {
          "base_uri": "https://localhost:8080/"
        },
        "id": "v85AYnlgE456",
        "outputId": "a01310e5-ca89-48b2-f5e3-11ac3ca41204"
      },
      "outputs": [
        {
          "output_type": "execute_result",
          "data": {
            "text/plain": [
              "<sqlite3.Cursor at 0x7804b00cc2c0>"
            ]
          },
          "metadata": {},
          "execution_count": 5
        }
      ],
      "source": [
        "# PROJETO BD SQLite\n",
        "# Bibliotecas e conexão com o banco\n",
        "import sqlite3\n",
        "\n",
        "# Conecta ao BD (em memória)\n",
        "conn = sqlite3.connect(':memory:')\n",
        "cursor = conn.cursor()\n",
        "\n",
        "# Ativa chaves estrangeiras\n",
        "cursor.execute(\"PRAGMA foreign_keys = ON;\")"
      ]
    },
    {
      "cell_type": "code",
      "source": [
        "# Criação das tabelas\n",
        "cursor.execute(\"\"\"\n",
        "    CREATE TABLE IF NOT EXISTS Pessoas (\n",
        "        id INTEGER PRIMARY KEY AUTOINCREMENT,\n",
        "        nome TEXT NOT NULL,\n",
        "        idade INTEGER\n",
        "    );\n",
        "\"\"\")\n",
        "\n",
        "cursor.execute(\"\"\"\n",
        "    CREATE TABLE IF NOT EXISTS Produtos (\n",
        "        id INTEGER PRIMARY KEY AUTOINCREMENT,\n",
        "        descricao TEXT NOT NULL,\n",
        "        preco REAL,\n",
        "        estoque INTEGER\n",
        "    );\n",
        "\"\"\")\n",
        "\n",
        "cursor.execute(\"\"\"\n",
        "    CREATE TABLE IF NOT EXISTS Vendas (\n",
        "        id_venda INTEGER PRIMARY KEY AUTOINCREMENT,\n",
        "        id_pessoa INTEGER,\n",
        "        id_produto INTEGER,\n",
        "        quantidade INTEGER,\n",
        "        FOREIGN KEY (id_pessoa) REFERENCES Pessoas(id),\n",
        "        FOREIGN KEY (id_produto) REFERENCES Produtos(id)\n",
        "    );\n",
        "\"\"\")\n",
        "\n",
        "# Salva as alterações\n",
        "conn.commit()\n",
        "print(\"Tabelas criadas com sucesso!\")"
      ],
      "metadata": {
        "colab": {
          "base_uri": "https://localhost:8080/"
        },
        "id": "kmvJjKxoXRTV",
        "outputId": "6848353d-7961-4d08-d4b7-48c347c70b21"
      },
      "execution_count": 7,
      "outputs": [
        {
          "output_type": "stream",
          "name": "stdout",
          "text": [
            "Tabelas criadas com sucesso!\n"
          ]
        }
      ]
    },
    {
      "cell_type": "code",
      "source": [
        "# Inserção de dados\n",
        "# Pessoas\n",
        "cursor.execute(\"INSERT INTO Pessoas (nome, idade) VALUES ('Maria', 30);\")\n",
        "cursor.execute(\"INSERT INTO Pessoas (nome, idade) VALUES ('João', 25);\")\n",
        "cursor.execute(\"INSERT INTO Pessoas (nome, idade) VALUES ('Ana', 40);\")\n",
        "\n",
        "# Produtos\n",
        "cursor.execute(\"INSERT INTO Produtos (descricao, preco, estoque) VALUES ('Caneta', 1.50, 100);\")\n",
        "cursor.execute(\"INSERT INTO Produtos (descricao, preco, estoque) VALUES ('Caderno', 6.50, 50);\")\n",
        "\n",
        "# Vendas\n",
        "cursor.execute(\"INSERT INTO Vendas (id_pessoa, id_produto, quantidade) VALUES (1, 1, 10);\")  # Maria comprou 10 canetas\n",
        "cursor.execute(\"INSERT INTO Vendas (id_pessoa, id_produto, quantidade) VALUES (2, 2, 2);\")   # João comprou 2 cadernos\n",
        "\n",
        "# Salva as alterações\n",
        "conn.commit()\n",
        "print(\"Dados inseridos com sucesso!\")"
      ],
      "metadata": {
        "colab": {
          "base_uri": "https://localhost:8080/"
        },
        "id": "znbCuOJjXmDt",
        "outputId": "256e9cc4-2045-4006-a8df-e0b9b33a8fae"
      },
      "execution_count": 8,
      "outputs": [
        {
          "output_type": "stream",
          "name": "stdout",
          "text": [
            "Dados inseridos com sucesso!\n"
          ]
        }
      ]
    },
    {
      "cell_type": "code",
      "source": [
        "# Consulta JOIN para mostrar vendas com detalhes\n",
        "cursor.execute(\"\"\"\n",
        "    SELECT\n",
        "        Vendas.id_venda,\n",
        "        Pessoas.nome AS cliente,\n",
        "        Produtos.descricao AS produto,\n",
        "        Vendas.quantidade,\n",
        "        (Produtos.preco * Vendas.quantidade) AS total\n",
        "    FROM Vendas\n",
        "    JOIN Pessoas ON Vendas.id_pessoa = Pessoas.id\n",
        "    JOIN Produtos ON Vendas.id_produto = Produtos.id;\n",
        "\"\"\")\n",
        "\n",
        "# Exibe os resultados\n",
        "print(\"\\nRelatório de Vendas:\")\n",
        "for row in cursor.fetchall():\n",
        "    print(row)"
      ],
      "metadata": {
        "colab": {
          "base_uri": "https://localhost:8080/"
        },
        "id": "5H1rsBWAYCRl",
        "outputId": "3de2442a-80b2-453f-db77-6f863c422a00"
      },
      "execution_count": 9,
      "outputs": [
        {
          "output_type": "stream",
          "name": "stdout",
          "text": [
            "\n",
            "Relatório de Vendas:\n",
            "(1, 'Maria', 'Caneta', 10, 15.0)\n",
            "(2, 'João', 'Caderno', 2, 13.0)\n"
          ]
        }
      ]
    }
  ]
}